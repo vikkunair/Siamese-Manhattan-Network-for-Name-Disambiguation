{
  "nbformat": 4,
  "nbformat_minor": 0,
  "metadata": {
    "colab": {
      "name": "Siamese_Disambiguation",
      "provenance": [],
      "collapsed_sections": []
    },
    "kernelspec": {
      "name": "python3",
      "display_name": "Python 3"
    }
  },
  "cells": [
    {
      "cell_type": "code",
      "metadata": {
        "id": "vSUFBiI90BpH"
      },
      "source": [
        "\n",
        "from keras.regularizers import l2\n",
        "from keras.models import Sequential\n",
        "from keras.optimizers import Adam\n",
        "from keras.layers import Conv2D, ZeroPadding2D, Activation, Input, concatenate\n",
        "from keras.models import Model\n",
        "from keras.preprocessing.text import one_hot\n",
        "from keras.layers.normalization import BatchNormalization\n",
        "from keras.layers.pooling import MaxPooling2D\n",
        "from keras.layers.merge import Concatenate\n",
        "from keras.layers.core import Lambda, Flatten, Dense\n",
        "from keras.initializers import glorot_uniform\n",
        "from keras.layers import Input, Dense, Flatten, GlobalMaxPool2D, GlobalAvgPool2D, Concatenate, Multiply, Dropout, Subtract, Add, Conv2D\n",
        "import pandas as pd"
      ],
      "execution_count": 1,
      "outputs": []
    },
    {
      "cell_type": "code",
      "metadata": {
        "colab": {
          "base_uri": "https://localhost:8080/"
        },
        "id": "LbQPGJKcWzjc",
        "outputId": "bef1c658-e9f3-47ff-b697-0055cb0bde0d"
      },
      "source": [
        "#Data Prep\n",
        "data = pd.read_csv(\"/content/persons.csv\",header=None)\n",
        "data.columns = [\"first\",\"second\",\"variation\"]\n",
        "print(data.shape)"
      ],
      "execution_count": 2,
      "outputs": [
        {
          "output_type": "stream",
          "text": [
            "(174218, 3)\n"
          ],
          "name": "stdout"
        }
      ]
    },
    {
      "cell_type": "code",
      "metadata": {
        "colab": {
          "base_uri": "https://localhost:8080/",
          "height": 189
        },
        "id": "wPA7w0stdf0N",
        "outputId": "3150f69e-2384-45ca-a1a2-dd408b0fda38"
      },
      "source": [
        "data.head()"
      ],
      "execution_count": 3,
      "outputs": [
        {
          "output_type": "execute_result",
          "data": {
            "text/html": [
              "<div>\n",
              "<style scoped>\n",
              "    .dataframe tbody tr th:only-of-type {\n",
              "        vertical-align: middle;\n",
              "    }\n",
              "\n",
              "    .dataframe tbody tr th {\n",
              "        vertical-align: top;\n",
              "    }\n",
              "\n",
              "    .dataframe thead th {\n",
              "        text-align: right;\n",
              "    }\n",
              "</style>\n",
              "<table border=\"1\" class=\"dataframe\">\n",
              "  <thead>\n",
              "    <tr style=\"text-align: right;\">\n",
              "      <th></th>\n",
              "      <th>first</th>\n",
              "      <th>second</th>\n",
              "      <th>variation</th>\n",
              "    </tr>\n",
              "  </thead>\n",
              "  <tbody>\n",
              "    <tr>\n",
              "      <th>0</th>\n",
              "      <td>Mercia MacDermott</td>\n",
              "      <td>Mercia MacDermott</td>\n",
              "      <td>0</td>\n",
              "    </tr>\n",
              "    <tr>\n",
              "      <th>1</th>\n",
              "      <td>Mercia MacDermott</td>\n",
              "      <td>Mercia %28disambiguation%29</td>\n",
              "      <td>1</td>\n",
              "    </tr>\n",
              "    <tr>\n",
              "      <th>2</th>\n",
              "      <td>Euan Heng</td>\n",
              "      <td>Euan Heng</td>\n",
              "      <td>0</td>\n",
              "    </tr>\n",
              "    <tr>\n",
              "      <th>3</th>\n",
              "      <td>Euan Heng</td>\n",
              "      <td>Euan</td>\n",
              "      <td>0</td>\n",
              "    </tr>\n",
              "    <tr>\n",
              "      <th>4</th>\n",
              "      <td>Peter Gregg %28musician%29</td>\n",
              "      <td>Peter Gregg %28musician%29</td>\n",
              "      <td>0</td>\n",
              "    </tr>\n",
              "  </tbody>\n",
              "</table>\n",
              "</div>"
            ],
            "text/plain": [
              "                        first                       second  variation\n",
              "0           Mercia MacDermott            Mercia MacDermott          0\n",
              "1           Mercia MacDermott  Mercia %28disambiguation%29          1\n",
              "2                   Euan Heng                    Euan Heng          0\n",
              "3                   Euan Heng                         Euan          0\n",
              "4  Peter Gregg %28musician%29   Peter Gregg %28musician%29          0"
            ]
          },
          "metadata": {
            "tags": []
          },
          "execution_count": 3
        }
      ]
    },
    {
      "cell_type": "code",
      "metadata": {
        "colab": {
          "base_uri": "https://localhost:8080/",
          "height": 189
        },
        "id": "3XQ86kBNd6Rp",
        "outputId": "bf87b3da-62dc-416b-e591-920e47075752"
      },
      "source": [
        "data[\"merge\"] = data[\"first\"] + \" \" + data[\"second\"]\n",
        "data.head()"
      ],
      "execution_count": 4,
      "outputs": [
        {
          "output_type": "execute_result",
          "data": {
            "text/html": [
              "<div>\n",
              "<style scoped>\n",
              "    .dataframe tbody tr th:only-of-type {\n",
              "        vertical-align: middle;\n",
              "    }\n",
              "\n",
              "    .dataframe tbody tr th {\n",
              "        vertical-align: top;\n",
              "    }\n",
              "\n",
              "    .dataframe thead th {\n",
              "        text-align: right;\n",
              "    }\n",
              "</style>\n",
              "<table border=\"1\" class=\"dataframe\">\n",
              "  <thead>\n",
              "    <tr style=\"text-align: right;\">\n",
              "      <th></th>\n",
              "      <th>first</th>\n",
              "      <th>second</th>\n",
              "      <th>variation</th>\n",
              "      <th>merge</th>\n",
              "    </tr>\n",
              "  </thead>\n",
              "  <tbody>\n",
              "    <tr>\n",
              "      <th>0</th>\n",
              "      <td>Mercia MacDermott</td>\n",
              "      <td>Mercia MacDermott</td>\n",
              "      <td>0</td>\n",
              "      <td>Mercia MacDermott Mercia MacDermott</td>\n",
              "    </tr>\n",
              "    <tr>\n",
              "      <th>1</th>\n",
              "      <td>Mercia MacDermott</td>\n",
              "      <td>Mercia %28disambiguation%29</td>\n",
              "      <td>1</td>\n",
              "      <td>Mercia MacDermott Mercia %28disambiguation%29</td>\n",
              "    </tr>\n",
              "    <tr>\n",
              "      <th>2</th>\n",
              "      <td>Euan Heng</td>\n",
              "      <td>Euan Heng</td>\n",
              "      <td>0</td>\n",
              "      <td>Euan Heng Euan Heng</td>\n",
              "    </tr>\n",
              "    <tr>\n",
              "      <th>3</th>\n",
              "      <td>Euan Heng</td>\n",
              "      <td>Euan</td>\n",
              "      <td>0</td>\n",
              "      <td>Euan Heng Euan</td>\n",
              "    </tr>\n",
              "    <tr>\n",
              "      <th>4</th>\n",
              "      <td>Peter Gregg %28musician%29</td>\n",
              "      <td>Peter Gregg %28musician%29</td>\n",
              "      <td>0</td>\n",
              "      <td>Peter Gregg %28musician%29 Peter Gregg %28musi...</td>\n",
              "    </tr>\n",
              "  </tbody>\n",
              "</table>\n",
              "</div>"
            ],
            "text/plain": [
              "                        first  ...                                              merge\n",
              "0           Mercia MacDermott  ...                Mercia MacDermott Mercia MacDermott\n",
              "1           Mercia MacDermott  ...      Mercia MacDermott Mercia %28disambiguation%29\n",
              "2                   Euan Heng  ...                                Euan Heng Euan Heng\n",
              "3                   Euan Heng  ...                                     Euan Heng Euan\n",
              "4  Peter Gregg %28musician%29  ...  Peter Gregg %28musician%29 Peter Gregg %28musi...\n",
              "\n",
              "[5 rows x 4 columns]"
            ]
          },
          "metadata": {
            "tags": []
          },
          "execution_count": 4
        }
      ]
    },
    {
      "cell_type": "code",
      "metadata": {
        "colab": {
          "base_uri": "https://localhost:8080/"
        },
        "id": "eSYqMt01j0aM",
        "outputId": "2aa0832b-89ba-490b-f340-55638cddb16a"
      },
      "source": [
        "\n",
        "#list of charcaters\n",
        "list_chars = list(\"0123456789abcdefghijklmnopqrstuvwxyzABCDEFGHIJKLMNOPQRSTUVWXYZ%,.-/&' \")\n",
        "print(len(list_chars))\n",
        "tokens = {i:list_chars[i] for i in range(0,len(list_chars))}\n",
        "tokens_rev = {list_chars[i]:i for i in range(0,len(list_chars))}\n",
        "print(tokens)\n",
        "print(tokens_rev)"
      ],
      "execution_count": 5,
      "outputs": [
        {
          "output_type": "stream",
          "text": [
            "70\n",
            "{0: '0', 1: '1', 2: '2', 3: '3', 4: '4', 5: '5', 6: '6', 7: '7', 8: '8', 9: '9', 10: 'a', 11: 'b', 12: 'c', 13: 'd', 14: 'e', 15: 'f', 16: 'g', 17: 'h', 18: 'i', 19: 'j', 20: 'k', 21: 'l', 22: 'm', 23: 'n', 24: 'o', 25: 'p', 26: 'q', 27: 'r', 28: 's', 29: 't', 30: 'u', 31: 'v', 32: 'w', 33: 'x', 34: 'y', 35: 'z', 36: 'A', 37: 'B', 38: 'C', 39: 'D', 40: 'E', 41: 'F', 42: 'G', 43: 'H', 44: 'I', 45: 'J', 46: 'K', 47: 'L', 48: 'M', 49: 'N', 50: 'O', 51: 'P', 52: 'Q', 53: 'R', 54: 'S', 55: 'T', 56: 'U', 57: 'V', 58: 'W', 59: 'X', 60: 'Y', 61: 'Z', 62: '%', 63: ',', 64: '.', 65: '-', 66: '/', 67: '&', 68: \"'\", 69: ' '}\n",
            "{'0': 0, '1': 1, '2': 2, '3': 3, '4': 4, '5': 5, '6': 6, '7': 7, '8': 8, '9': 9, 'a': 10, 'b': 11, 'c': 12, 'd': 13, 'e': 14, 'f': 15, 'g': 16, 'h': 17, 'i': 18, 'j': 19, 'k': 20, 'l': 21, 'm': 22, 'n': 23, 'o': 24, 'p': 25, 'q': 26, 'r': 27, 's': 28, 't': 29, 'u': 30, 'v': 31, 'w': 32, 'x': 33, 'y': 34, 'z': 35, 'A': 36, 'B': 37, 'C': 38, 'D': 39, 'E': 40, 'F': 41, 'G': 42, 'H': 43, 'I': 44, 'J': 45, 'K': 46, 'L': 47, 'M': 48, 'N': 49, 'O': 50, 'P': 51, 'Q': 52, 'R': 53, 'S': 54, 'T': 55, 'U': 56, 'V': 57, 'W': 58, 'X': 59, 'Y': 60, 'Z': 61, '%': 62, ',': 63, '.': 64, '-': 65, '/': 66, '&': 67, \"'\": 68, ' ': 69}\n"
          ],
          "name": "stdout"
        }
      ]
    },
    {
      "cell_type": "code",
      "metadata": {
        "colab": {
          "base_uri": "https://localhost:8080/"
        },
        "id": "YW8I-DaghiEf",
        "outputId": "551a1e1c-a183-457f-f6e5-167110ab5c9f"
      },
      "source": [
        "from sklearn.model_selection import train_test_split\n",
        "X_temp, X_test, y_temp, y_test = train_test_split(data[['first', 'second']], data['variation'], test_size=0.2, random_state=42)\n",
        "X_train, X_val, y_train, y_val = train_test_split(X_temp, y_temp, test_size=0.2, random_state=42)\n",
        "print(X_train.shape)\n",
        "print(y_train.shape)\n",
        "print(X_val.shape)\n",
        "print(y_val.shape)\n",
        "print(X_test.shape)\n",
        "print(y_test.shape)"
      ],
      "execution_count": 6,
      "outputs": [
        {
          "output_type": "stream",
          "text": [
            "(111499, 2)\n",
            "(111499,)\n",
            "(27875, 2)\n",
            "(27875,)\n",
            "(34844, 2)\n",
            "(34844,)\n"
          ],
          "name": "stdout"
        }
      ]
    },
    {
      "cell_type": "code",
      "metadata": {
        "id": "R2QTjht_h2Go"
      },
      "source": [
        "def character_onehot(column_list,tokens_rev):\n",
        "  for i in range(0,len(column_list)):\n",
        "    name_list_current = list(column_list[i])\n",
        "    column_list[i] = [tokens_rev[char] for char in name_list_current]   \n",
        "  return  column_list\n",
        "#character_onehot(X_train['second'].to_list(),tokens_rev)"
      ],
      "execution_count": 7,
      "outputs": []
    },
    {
      "cell_type": "code",
      "metadata": {
        "id": "RR0qJh-sloxE"
      },
      "source": [
        "train_q1_seq = character_onehot(X_train['first'].to_list(),tokens_rev)\n",
        "train_q2_seq = character_onehot(X_train['second'].to_list(),tokens_rev)\n",
        "val_q1_seq = character_onehot(X_val['first'].to_list(),tokens_rev)\n",
        "val_q2_seq = character_onehot(X_val['second'].to_list(),tokens_rev)\n",
        "test_q1_seq = character_onehot(X_test['first'].to_list(),tokens_rev)\n",
        "test_q2_seq = character_onehot(X_test['second'].to_list(),tokens_rev)"
      ],
      "execution_count": 8,
      "outputs": []
    },
    {
      "cell_type": "code",
      "metadata": {
        "colab": {
          "base_uri": "https://localhost:8080/",
          "height": 368
        },
        "id": "U5g5IG5TmERB",
        "outputId": "b3040ea6-4ea2-4ec8-9c5e-6f835f3fa601"
      },
      "source": [
        "#Vector length for train q1\n",
        "import numpy as np\n",
        "import matplotlib.pyplot as plt\n",
        "import seaborn as sns\n",
        "\n",
        "%matplotlib inline\n",
        "\n",
        "print(train_q1_seq[0:2])\n",
        "len_vec = [len(char_vec) for char_vec in train_q1_seq]\n",
        "print(\"max length => \", np.max(len_vec))\n",
        "sns.distplot(len_vec)"
      ],
      "execution_count": 9,
      "outputs": [
        {
          "output_type": "stream",
          "text": [
            "[[37, 14, 23, 24, 23, 18, 69, 37, 14, 17, 14, 34, 29], [48, 18, 27, 10, 23, 69, 37, 30, 33]]\n",
            "max length =>  69\n"
          ],
          "name": "stdout"
        },
        {
          "output_type": "stream",
          "text": [
            "/usr/local/lib/python3.6/dist-packages/seaborn/distributions.py:2557: FutureWarning: `distplot` is a deprecated function and will be removed in a future version. Please adapt your code to use either `displot` (a figure-level function with similar flexibility) or `histplot` (an axes-level function for histograms).\n",
            "  warnings.warn(msg, FutureWarning)\n"
          ],
          "name": "stderr"
        },
        {
          "output_type": "execute_result",
          "data": {
            "text/plain": [
              "<matplotlib.axes._subplots.AxesSubplot at 0x7f659488d780>"
            ]
          },
          "metadata": {
            "tags": []
          },
          "execution_count": 9
        },
        {
          "output_type": "display_data",
          "data": {
            "image/png": "[encoded data removed]",
            "text/plain": [
              "<Figure size 432x288 with 1 Axes>"
            ]
          },
          "metadata": {
            "tags": [],
            "needs_background": "light"
          }
        }
      ]
    },
    {
      "cell_type": "code",
      "metadata": {
        "colab": {
          "base_uri": "https://localhost:8080/",
          "height": 368
        },
        "id": "o5tzavIUm57f",
        "outputId": "a077a059-4d07-460e-9ed5-9b1209ef4a46"
      },
      "source": [
        "print(train_q2_seq[0:2])\n",
        "len_vec = [len(char_vec) for char_vec in train_q2_seq]\n",
        "print(\"max length => \", np.max(len_vec))\n",
        "sns.distplot(len_vec)"
      ],
      "execution_count": 10,
      "outputs": [
        {
          "output_type": "stream",
          "text": [
            "[[37, 14, 23, 24, 23, 18, 69, 37, 14, 17, 14, 34, 29], [48, 18, 27, 10, 23]]\n",
            "max length =>  69\n"
          ],
          "name": "stdout"
        },
        {
          "output_type": "stream",
          "text": [
            "/usr/local/lib/python3.6/dist-packages/seaborn/distributions.py:2557: FutureWarning: `distplot` is a deprecated function and will be removed in a future version. Please adapt your code to use either `displot` (a figure-level function with similar flexibility) or `histplot` (an axes-level function for histograms).\n",
            "  warnings.warn(msg, FutureWarning)\n"
          ],
          "name": "stderr"
        },
        {
          "output_type": "execute_result",
          "data": {
            "text/plain": [
              "<matplotlib.axes._subplots.AxesSubplot at 0x7f6589f1add8>"
            ]
          },
          "metadata": {
            "tags": []
          },
          "execution_count": 10
        },
        {
          "output_type": "display_data",
          "data": {
            "image/png": "[encoded data removed]",
            "text/plain": [
              "<Figure size 432x288 with 1 Axes>"
            ]
          },
          "metadata": {
            "tags": [],
            "needs_background": "light"
          }
        }
      ]
    },
    {
      "cell_type": "code",
      "metadata": {
        "colab": {
          "base_uri": "https://localhost:8080/"
        },
        "id": "Gm9n13qAwhhj",
        "outputId": "da011954-a8b9-4f45-b2e8-07cf41be6859"
      },
      "source": [
        "from keras.preprocessing.sequence import pad_sequences\n",
        "max_len = 50\n",
        "train_q1_seq = pad_sequences(train_q1_seq, maxlen=max_len, padding='post')\n",
        "train_q2_seq = pad_sequences(train_q2_seq, maxlen=max_len, padding='post')\n",
        "val_q1_seq = pad_sequences(val_q1_seq, maxlen=max_len, padding='post')\n",
        "val_q2_seq = pad_sequences(val_q2_seq, maxlen=max_len, padding='post')\n",
        "test_q1_seq = pad_sequences(test_q1_seq, maxlen=max_len, padding='post')\n",
        "test_q2_seq = pad_sequences(test_q2_seq, maxlen=max_len, padding='post')\n",
        "print(train_q1_seq)"
      ],
      "execution_count": 11,
      "outputs": [
        {
          "output_type": "stream",
          "text": [
            "[[37 14 23 ...  0  0  0]\n",
            " [48 18 27 ...  0  0  0]\n",
            " [50 21 14 ...  0  0  0]\n",
            " ...\n",
            " [51 10 29 ...  0  0  0]\n",
            " [45 18 22 ...  0  0  0]\n",
            " [48 18 12 ...  0  0  0]]\n"
          ],
          "name": "stdout"
        }
      ]
    },
    {
      "cell_type": "code",
      "metadata": {
        "id": "DgqsDY0mo24N"
      },
      "source": [
        "import tensorflow as tf\n",
        "from keras.regularizers import l2\n",
        "from keras.models import Sequential\n",
        "from keras.optimizers import Adam\n",
        "from keras.layers import Conv2D, ZeroPadding2D, Activation, Input, concatenate\n",
        "from keras.models import Model\n",
        "from keras.layers import Input, Concatenate, Conv2D, Flatten, Dense, Embedding, LSTM\n",
        "from keras.models import Model\n",
        "from keras.layers.normalization import BatchNormalization\n",
        "from keras.layers.pooling import MaxPooling2D\n",
        "from keras.layers.merge import Concatenate\n",
        "from keras.layers.core import Lambda, Flatten, Dense\n",
        "from keras.initializers import glorot_uniform\n",
        "from keras.layers import Input, Dense, Flatten, GlobalMaxPool2D, GlobalAvgPool2D, Concatenate, Multiply, Dropout, Subtract, Add, Conv2D"
      ],
      "execution_count": 12,
      "outputs": []
    },
    {
      "cell_type": "code",
      "metadata": {
        "id": "ULg7-In7irgb"
      },
      "source": [
        "from keras import backend as K\n",
        "\n",
        "def cosine_distance(vests):\n",
        "    x, y = vests\n",
        "    x = K.l2_normalize(x, axis=-1)\n",
        "    y = K.l2_normalize(y, axis=-1)\n",
        "    return -K.mean(x * y, axis=-1, keepdims=True)\n",
        "\n",
        "def cos_dist_output_shape(shapes):\n",
        "    shape1, shape2 = shapes\n",
        "    return (shape1[0],1)"
      ],
      "execution_count": 13,
      "outputs": []
    },
    {
      "cell_type": "code",
      "metadata": {
        "id": "G2EFMqtPdpZx"
      },
      "source": [
        "from sklearn.metrics import roc_auc_score\n",
        "\n",
        "def auroc(y_true, y_pred):\n",
        "    try:\n",
        "        return tf.py_function(roc_auc_score, (y_true, y_pred), tf.double)\n",
        "    except:\n",
        "        pass"
      ],
      "execution_count": 14,
      "outputs": []
    },
    {
      "cell_type": "code",
      "metadata": {
        "id": "qjazgLeDRjgP"
      },
      "source": [
        "input_1 = Input(shape=(train_q1_seq.shape[1],))\n",
        "input_2 = Input(shape=(train_q2_seq.shape[1],))\n",
        "\n",
        "\n",
        "common_embed = Embedding(name=\"synopsis_embedd\",input_dim =100, \n",
        "                       output_dim=30, \n",
        "                       input_length=train_q1_seq.shape[1],trainable=True) \n",
        "lstm_1 = common_embed(input_1)\n",
        "lstm_2 = common_embed(input_2)\n",
        "\n",
        "\n",
        "common_lstm = LSTM(64,return_sequences=True, activation=\"relu\")\n",
        "vector_1 = common_lstm(lstm_1)\n",
        "vector_1 = Flatten()(vector_1)\n",
        "\n",
        "vector_2 = common_lstm(lstm_2)\n",
        "vector_2 = Flatten()(vector_2)\n",
        "\n",
        "x3 = Subtract()([vector_1, vector_2])\n",
        "x3 = Multiply()([x3, x3])\n",
        "\n",
        "x1_ = Multiply()([vector_1, vector_1])\n",
        "x2_ = Multiply()([vector_2, vector_2])\n",
        "x4 = Subtract()([x1_, x2_])\n",
        "    \n",
        "    #https://stackoverflow.com/a/51003359/10650182\n",
        "x5 = Lambda(cosine_distance, output_shape=cos_dist_output_shape)([vector_1, vector_2])\n",
        "    \n",
        "conc = Concatenate(axis=-1)([x5,x4, x3])\n",
        "\n",
        "x = Dense(100, activation=\"relu\", name='conc_layer')(conc)\n",
        "x = Dropout(0.01)(x)\n",
        "out = Dense(1, activation=\"sigmoid\", name = 'out')(x)\n",
        "\n",
        "model = Model([input_1, input_2], out)\n",
        "\n",
        "model.compile(loss=\"binary_crossentropy\",metrics=['accuracy'], optimizer=Adam(0.00001))"
      ],
      "execution_count": 41,
      "outputs": []
    },
    {
      "cell_type": "code",
      "metadata": {
        "colab": {
          "base_uri": "https://localhost:8080/"
        },
        "id": "KDhE6k1-RnWW",
        "outputId": "8d5b1254-6bbc-484d-a92e-2b332c8b9928"
      },
      "source": [
        "model.summary()"
      ],
      "execution_count": 42,
      "outputs": [
        {
          "output_type": "stream",
          "text": [
            "Model: \"model_2\"\n",
            "__________________________________________________________________________________________________\n",
            "Layer (type)                    Output Shape         Param #     Connected to                     \n",
            "==================================================================================================\n",
            "input_5 (InputLayer)            [(None, 50)]         0                                            \n",
            "__________________________________________________________________________________________________\n",
            "input_6 (InputLayer)            [(None, 50)]         0                                            \n",
            "__________________________________________________________________________________________________\n",
            "synopsis_embedd (Embedding)     (None, 50, 30)       3000        input_5[0][0]                    \n",
            "                                                                 input_6[0][0]                    \n",
            "__________________________________________________________________________________________________\n",
            "lstm_2 (LSTM)                   (None, 50, 64)       24320       synopsis_embedd[0][0]            \n",
            "                                                                 synopsis_embedd[1][0]            \n",
            "__________________________________________________________________________________________________\n",
            "flatten_4 (Flatten)             (None, 3200)         0           lstm_2[0][0]                     \n",
            "__________________________________________________________________________________________________\n",
            "flatten_5 (Flatten)             (None, 3200)         0           lstm_2[1][0]                     \n",
            "__________________________________________________________________________________________________\n",
            "multiply_7 (Multiply)           (None, 3200)         0           flatten_4[0][0]                  \n",
            "                                                                 flatten_4[0][0]                  \n",
            "__________________________________________________________________________________________________\n",
            "multiply_8 (Multiply)           (None, 3200)         0           flatten_5[0][0]                  \n",
            "                                                                 flatten_5[0][0]                  \n",
            "__________________________________________________________________________________________________\n",
            "subtract_4 (Subtract)           (None, 3200)         0           flatten_4[0][0]                  \n",
            "                                                                 flatten_5[0][0]                  \n",
            "__________________________________________________________________________________________________\n",
            "lambda_2 (Lambda)               (None, 1)            0           flatten_4[0][0]                  \n",
            "                                                                 flatten_5[0][0]                  \n",
            "__________________________________________________________________________________________________\n",
            "subtract_5 (Subtract)           (None, 3200)         0           multiply_7[0][0]                 \n",
            "                                                                 multiply_8[0][0]                 \n",
            "__________________________________________________________________________________________________\n",
            "multiply_6 (Multiply)           (None, 3200)         0           subtract_4[0][0]                 \n",
            "                                                                 subtract_4[0][0]                 \n",
            "__________________________________________________________________________________________________\n",
            "concatenate_2 (Concatenate)     (None, 6401)         0           lambda_2[0][0]                   \n",
            "                                                                 subtract_5[0][0]                 \n",
            "                                                                 multiply_6[0][0]                 \n",
            "__________________________________________________________________________________________________\n",
            "conc_layer (Dense)              (None, 100)          640200      concatenate_2[0][0]              \n",
            "__________________________________________________________________________________________________\n",
            "dropout_2 (Dropout)             (None, 100)          0           conc_layer[0][0]                 \n",
            "__________________________________________________________________________________________________\n",
            "out (Dense)                     (None, 1)            101         dropout_2[0][0]                  \n",
            "==================================================================================================\n",
            "Total params: 667,621\n",
            "Trainable params: 667,621\n",
            "Non-trainable params: 0\n",
            "__________________________________________________________________________________________________\n"
          ],
          "name": "stdout"
        }
      ]
    },
    {
      "cell_type": "code",
      "metadata": {
        "colab": {
          "base_uri": "https://localhost:8080/"
        },
        "id": "8WNHw9nTRvDS",
        "outputId": "04558618-e32c-4607-9fb0-34f0f090cf22"
      },
      "source": [
        "model.fit([train_q1_seq,train_q2_seq],y_train.values.reshape(-1,1), epochs = 30,\n",
        "          batch_size=43,validation_data=([val_q1_seq, val_q2_seq],y_val.values.reshape(-1,1)))"
      ],
      "execution_count": 43,
      "outputs": [
        {
          "output_type": "stream",
          "text": [
            "Epoch 1/30\n",
            "2593/2593 [==============================] - 155s 59ms/step - loss: 0.6161 - accuracy: 0.8772 - val_loss: 0.4083 - val_accuracy: 0.9642\n",
            "Epoch 2/30\n",
            "2593/2593 [==============================] - 151s 58ms/step - loss: 0.3943 - accuracy: 0.9624 - val_loss: 0.3490 - val_accuracy: 0.9669\n",
            "Epoch 3/30\n",
            "2593/2593 [==============================] - 152s 59ms/step - loss: 0.3374 - accuracy: 0.9665 - val_loss: 0.2982 - val_accuracy: 0.9687\n",
            "Epoch 4/30\n",
            "2593/2593 [==============================] - 153s 59ms/step - loss: 0.2883 - accuracy: 0.9675 - val_loss: 0.2554 - val_accuracy: 0.9692\n",
            "Epoch 5/30\n",
            "2593/2593 [==============================] - 152s 59ms/step - loss: 0.2425 - accuracy: 0.9684 - val_loss: 0.2142 - val_accuracy: 0.9693\n",
            "Epoch 6/30\n",
            "2593/2593 [==============================] - 153s 59ms/step - loss: 0.2056 - accuracy: 0.9675 - val_loss: 0.1747 - val_accuracy: 0.9712\n",
            "Epoch 7/30\n",
            "2593/2593 [==============================] - 152s 59ms/step - loss: 0.1725 - accuracy: 0.9693 - val_loss: 0.1499 - val_accuracy: 0.9712\n",
            "Epoch 8/30\n",
            "2593/2593 [==============================] - 154s 59ms/step - loss: 0.1465 - accuracy: 0.9695 - val_loss: 0.1280 - val_accuracy: 0.9712\n",
            "Epoch 9/30\n",
            "2593/2593 [==============================] - 153s 59ms/step - loss: 0.1291 - accuracy: 0.9693 - val_loss: 0.1150 - val_accuracy: 0.9712\n",
            "Epoch 10/30\n",
            "2593/2593 [==============================] - 154s 59ms/step - loss: 0.1157 - accuracy: 0.9696 - val_loss: 0.1045 - val_accuracy: 0.9715\n",
            "Epoch 11/30\n",
            "2593/2593 [==============================] - 153s 59ms/step - loss: 0.1048 - accuracy: 0.9705 - val_loss: 0.0972 - val_accuracy: 0.9719\n",
            "Epoch 12/30\n",
            "2593/2593 [==============================] - 153s 59ms/step - loss: 0.0987 - accuracy: 0.9709 - val_loss: 0.0928 - val_accuracy: 0.9719\n",
            "Epoch 13/30\n",
            "2593/2593 [==============================] - 153s 59ms/step - loss: 0.0936 - accuracy: 0.9712 - val_loss: 0.0875 - val_accuracy: 0.9726\n",
            "Epoch 14/30\n",
            "2593/2593 [==============================] - 154s 59ms/step - loss: 0.0910 - accuracy: 0.9711 - val_loss: 0.0863 - val_accuracy: 0.9726\n",
            "Epoch 15/30\n",
            "2593/2593 [==============================] - 153s 59ms/step - loss: 0.0864 - accuracy: 0.9722 - val_loss: 0.0825 - val_accuracy: 0.9737\n",
            "Epoch 16/30\n",
            "2593/2593 [==============================] - 154s 60ms/step - loss: 0.0847 - accuracy: 0.9726 - val_loss: 0.0808 - val_accuracy: 0.9736\n",
            "Epoch 17/30\n",
            "2593/2593 [==============================] - 153s 59ms/step - loss: 0.0823 - accuracy: 0.9730 - val_loss: 0.0827 - val_accuracy: 0.9733\n",
            "Epoch 18/30\n",
            "2593/2593 [==============================] - 155s 60ms/step - loss: 0.0812 - accuracy: 0.9732 - val_loss: 0.0803 - val_accuracy: 0.9735\n",
            "Epoch 19/30\n",
            "2593/2593 [==============================] - 155s 60ms/step - loss: 0.0780 - accuracy: 0.9740 - val_loss: 0.0761 - val_accuracy: 0.9745\n",
            "Epoch 20/30\n",
            "2593/2593 [==============================] - 156s 60ms/step - loss: 0.0772 - accuracy: 0.9745 - val_loss: 0.0813 - val_accuracy: 0.9730\n",
            "Epoch 21/30\n",
            "2593/2593 [==============================] - 153s 59ms/step - loss: 0.0780 - accuracy: 0.9736 - val_loss: 0.0741 - val_accuracy: 0.9751\n",
            "Epoch 22/30\n",
            "2593/2593 [==============================] - 155s 60ms/step - loss: 0.0733 - accuracy: 0.9758 - val_loss: 0.0737 - val_accuracy: 0.9761\n",
            "Epoch 23/30\n",
            "2593/2593 [==============================] - 154s 60ms/step - loss: 0.0769 - accuracy: 0.9744 - val_loss: 0.0734 - val_accuracy: 0.9758\n",
            "Epoch 24/30\n",
            "2593/2593 [==============================] - 156s 60ms/step - loss: 0.0751 - accuracy: 0.9746 - val_loss: 0.0726 - val_accuracy: 0.9763\n",
            "Epoch 25/30\n",
            "2593/2593 [==============================] - 155s 60ms/step - loss: 0.0750 - accuracy: 0.9745 - val_loss: 0.0706 - val_accuracy: 0.9761\n",
            "Epoch 26/30\n",
            "2593/2593 [==============================] - 154s 59ms/step - loss: 0.0727 - accuracy: 0.9755 - val_loss: 0.0821 - val_accuracy: 0.9736\n",
            "Epoch 27/30\n",
            "2593/2593 [==============================] - 154s 59ms/step - loss: 0.0717 - accuracy: 0.9764 - val_loss: 0.0701 - val_accuracy: 0.9764\n",
            "Epoch 28/30\n",
            "2593/2593 [==============================] - 155s 60ms/step - loss: 0.0726 - accuracy: 0.9755 - val_loss: 0.0696 - val_accuracy: 0.9773\n",
            "Epoch 29/30\n",
            "2593/2593 [==============================] - 154s 59ms/step - loss: 0.0715 - accuracy: 0.9760 - val_loss: 0.0696 - val_accuracy: 0.9767\n",
            "Epoch 30/30\n",
            "2593/2593 [==============================] - 156s 60ms/step - loss: 0.0707 - accuracy: 0.9757 - val_loss: 0.0728 - val_accuracy: 0.9757\n"
          ],
          "name": "stdout"
        },
        {
          "output_type": "execute_result",
          "data": {
            "text/plain": [
              "<tensorflow.python.keras.callbacks.History at 0x7f657b53bc88>"
            ]
          },
          "metadata": {
            "tags": []
          },
          "execution_count": 43
        }
      ]
    },
    {
      "cell_type": "code",
      "metadata": {
        "id": "UKloqhst6WyV"
      },
      "source": [
        "first_term = character_onehot([\"Vikas Nair\"],tokens_rev)\n",
        "second_term = character_onehot([\"Vikas Nayar\"],tokens_rev)\n",
        "first_padded = pad_sequences(first_term, maxlen=max_len, padding='post')\n",
        "second_padded = pad_sequences(second_term, maxlen=max_len, padding='post')\n"
      ],
      "execution_count": 66,
      "outputs": []
    },
    {
      "cell_type": "code",
      "metadata": {
        "colab": {
          "base_uri": "https://localhost:8080/"
        },
        "id": "2RS2sxuU7T6-",
        "outputId": "b548c362-0c17-4bd0-fe19-7449d9ff122f"
      },
      "source": [
        "model.predict([first_padded,second_padded])"
      ],
      "execution_count": 67,
      "outputs": [
        {
          "output_type": "execute_result",
          "data": {
            "text/plain": [
              "array([[0.04597953]], dtype=float32)"
            ]
          },
          "metadata": {
            "tags": []
          },
          "execution_count": 67
        }
      ]
    }
  ]
}